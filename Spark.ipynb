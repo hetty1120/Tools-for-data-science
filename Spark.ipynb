{
 "cells": [
  {
   "cell_type": "code",
   "execution_count": 1,
   "metadata": {},
   "outputs": [
    {
     "data": {
      "text/plain": [
       "<pyspark.context.SparkContext at 0x2aeffbfdc890>"
      ]
     },
     "execution_count": 1,
     "metadata": {},
     "output_type": "execute_result"
    }
   ],
   "source": [
    "sc"
   ]
  },
  {
   "cell_type": "code",
   "execution_count": 2,
   "metadata": {
    "collapsed": true
   },
   "outputs": [],
   "source": [
    "# Define functions to parse txt files containing items, stores, customers, and transactions\n",
    "from pyspark.sql import Row\n",
    "from datetime import datetime\n",
    "from pyspark.sql import functions as F\n",
    "def parseStore(s):\n",
    "    l=s.split('|')\n",
    "    return Row(store_num=int(l[0]), \n",
    "               store_name=l[1],               \n",
    "               store_zone=l[2],\n",
    "               store_city=l[3], \n",
    "               store_state=l[4], \n",
    "               store_type=int(l[5]))\n",
    "def parseItem(s):\n",
    "    l=s.split('|')\n",
    "    return Row(item_number=int(l[0]), \n",
    "               dept_categ_class=l[1],               \n",
    "               item_des=l[2],\n",
    "               item_unt_qty=float(l[3]), \n",
    "               size_unit_desc=l[4], \n",
    "               brand_code=l[5], \n",
    "               dept_num=int(l[6]), \n",
    "               dept_name=l[7], \n",
    "               categ_num=int(l[8]), \n",
    "               categ_name=l[9], \n",
    "               class_num=int(l[10]),\n",
    "               class_name=l[11])\n",
    "def parseCustomer(s):\n",
    "    l=s.split('|')\n",
    "    return Row(hshld_acct=int(l[0]),\n",
    "               birth_yr_head_hh=l[1],\n",
    "               hh_income=l[2],\n",
    "               hh_size=l[3],\n",
    "               adult_count=l[4],\n",
    "               child_count=l[5],\n",
    "               birth_yr_oldest=l[6],\n",
    "               birth_yr_youngest=l[7],\n",
    "               bad_address=l[8],\n",
    "               privacy=l[9],\n",
    "               application_date=datetime.strptime(l[10],'%Y-%m-%d'),\n",
    "               wine_email_sent=int(l[11]),\n",
    "               wine_email_open=int(l[12]),\n",
    "               wine_email_click=int(l[13]))\n",
    "def parsePostrans(s):\n",
    "    l=s.split('|')\n",
    "    return Row(hshld_acct=int(l[0]),\n",
    "               acct_num=int(l[1]),\n",
    "               trans_num=int(l[2]),\n",
    "               trans_date=datetime.strptime(l[3],'%Y-%m-%d'),\n",
    "               store_num=int(l[4]),\n",
    "               item_number=int(l[5]),\n",
    "               dept_categ_class=l[6],\n",
    "               unit_count=int(l[7]),\n",
    "               net_sales=float(l[8]),\n",
    "               gross_sales=float(l[9]),\n",
    "               manuf_coupon=float(l[10]))"
   ]
  },
  {
   "cell_type": "code",
   "execution_count": 3,
   "metadata": {
    "collapsed": true
   },
   "outputs": [],
   "source": [
    "#Read in text files\n",
    "path='/public/jcarrol5/data/Wegmans/'\n",
    "storeRDD=sc.textFile(path+'wegmans_store_master.txt')\n",
    "itemRDD=sc.textFile(path+'wegmans_item_master.txt')\n",
    "customerRDD=sc.textFile(path+'wegmans_customer_master.txt')\n",
    "postransRDD=sc.textFile(path+'partial_transaction.dat')"
   ]
  },
  {
   "cell_type": "code",
   "execution_count": 4,
   "metadata": {
    "collapsed": true
   },
   "outputs": [],
   "source": [
    "#Create Row RDD's\n",
    "storeRowRDD=storeRDD.map(parseStore)\n",
    "itemRowRDD=itemRDD.map(parseItem)\n",
    "customerRowRDD=customerRDD.map(parseCustomer)\n",
    "postransRowRDD=postransRDD.map(parsePostrans)"
   ]
  },
  {
   "cell_type": "code",
   "execution_count": 5,
   "metadata": {
    "collapsed": true
   },
   "outputs": [],
   "source": [
    "#Create Data Frames\n",
    "storeDF=sqlContext.createDataFrame(storeRowRDD)\n",
    "itemDF=sqlContext.createDataFrame(itemRowRDD)\n",
    "customerDF=sqlContext.createDataFrame(customerRowRDD)\n",
    "postransDF=sqlContext.createDataFrame(postransRowRDD)"
   ]
  },
  {
   "cell_type": "code",
   "execution_count": 6,
   "metadata": {},
   "outputs": [
    {
     "name": "stdout",
     "output_type": "stream",
     "text": [
      "+--------+----------------+-----------+----------+-----------+------------+---------+---------+--------------------+---------+----------+\n",
      "|acct_num|dept_categ_class|gross_sales|hshld_acct|item_number|manuf_coupon|net_sales|store_num|          trans_date|trans_num|unit_count|\n",
      "+--------+----------------+-----------+----------+-----------+------------+---------+---------+--------------------+---------+----------+\n",
      "|     559|          010327|       1.99|       559|      16705|         0.0|     1.99|       64|2013-06-01 00:00:...|   174758|         1|\n",
      "|     559|          010640|       2.29|       559|      85189|         0.0|     2.29|       64|2013-06-01 00:00:...|   174758|         1|\n",
      "|     559|          021410|       5.99|       559|      24159|         0.0|     5.99|       64|2013-06-01 00:00:...|   174758|         1|\n",
      "|     559|          022036|       3.49|       559|      33378|         0.0|     3.49|       64|2013-06-01 00:00:...|   174758|         1|\n",
      "|     559|          022036|       5.99|       559|      33261|         0.0|     5.99|       64|2013-06-01 00:00:...|   174758|         1|\n",
      "+--------+----------------+-----------+----------+-----------+------------+---------+---------+--------------------+---------+----------+\n",
      "only showing top 5 rows\n",
      "\n"
     ]
    }
   ],
   "source": [
    "postransDF.show(5)"
   ]
  },
  {
   "cell_type": "code",
   "execution_count": 7,
   "metadata": {},
   "outputs": [
    {
     "name": "stdout",
     "output_type": "stream",
     "text": [
      "+-------------+------------------+\n",
      "|new_trans_num|             total|\n",
      "+-------------+------------------+\n",
      "|     36122148|61.120000000000005|\n",
      "|     46382669|43.870000000000005|\n",
      "|     24061893|23.509999999999998|\n",
      "|    131539883|             21.07|\n",
      "|      3401555|188.72999999999996|\n",
      "+-------------+------------------+\n",
      "only showing top 5 rows\n",
      "\n"
     ]
    }
   ],
   "source": [
    "# for the first quesiton\n",
    "# combine gross_sales with same transcation number\n",
    "trans_rev=postransDF \\\n",
    "    .groupBy('trans_num') \\\n",
    "    .agg(F.sum('gross_sales').alias('total')) \\\n",
    "    .withColumnRenamed(\"trans_num\", \"new_trans_num\")\n",
    "trans_rev.cache()\n",
    "trans_rev.show(5)"
   ]
  },
  {
   "cell_type": "code",
   "execution_count": 10,
   "metadata": {},
   "outputs": [
    {
     "name": "stdout",
     "output_type": "stream",
     "text": [
      "+----------+\n",
      "|max(total)|\n",
      "+----------+\n",
      "|   1746.08|\n",
      "+----------+\n",
      "\n",
      "+----------+\n",
      "|min(total)|\n",
      "+----------+\n",
      "|   -330.09|\n",
      "+----------+\n",
      "\n",
      "+-----------------+\n",
      "|       avg(total)|\n",
      "+-----------------+\n",
      "|50.65479100251678|\n",
      "+-----------------+\n",
      "\n"
     ]
    }
   ],
   "source": [
    "# for the first question (method 1)\n",
    "trans_rev.select(F.max('total')).show()\n",
    "trans_rev.select(F.min('total')).show()\n",
    "trans_rev.select(F.avg('total')).show()"
   ]
  },
  {
   "cell_type": "code",
   "execution_count": 11,
   "metadata": {},
   "outputs": [
    {
     "name": "stdout",
     "output_type": "stream",
     "text": [
      "+-------------+-------+\n",
      "|new_trans_num|  total|\n",
      "+-------------+-------+\n",
      "|     23315450|1746.08|\n",
      "+-------------+-------+\n",
      "only showing top 1 row\n",
      "\n",
      "+-------------+-------+\n",
      "|new_trans_num|  total|\n",
      "+-------------+-------+\n",
      "|   2133235197|-330.09|\n",
      "+-------------+-------+\n",
      "only showing top 1 row\n",
      "\n",
      "+-----------------+\n",
      "|       avg(total)|\n",
      "+-----------------+\n",
      "|50.65479100251678|\n",
      "+-----------------+\n",
      "\n"
     ]
    }
   ],
   "source": [
    "# for the first question (method 2)\n",
    "max_trans_rev = trans_rev.sort('total',ascending=False)\n",
    "max_trans_rev.show(1)\n",
    "min_trans_rev = trans_rev.sort('total',ascending=True)\n",
    "min_trans_rev.show(1)\n",
    "trans_rev.select(F.avg('total')).show()\n",
    "# The result is that max is 1746.08, min is -330.09, and the average is 50.65"
   ]
  },
  {
   "cell_type": "code",
   "execution_count": 12,
   "metadata": {},
   "outputs": [
    {
     "name": "stdout",
     "output_type": "stream",
     "text": [
      "+----------+---------+------------------+\n",
      "| trans_num|store_num|             total|\n",
      "+----------+---------+------------------+\n",
      "|  31726186|        3|             56.21|\n",
      "|  41151856|       63|             71.41|\n",
      "| 146113579|       25|126.18999999999994|\n",
      "|  96284562|       19|45.010000000000005|\n",
      "|  27437815|       25|            153.69|\n",
      "| 135300280|       64|             25.75|\n",
      "|2145152018|       24|13.150000000000002|\n",
      "|  84340118|       24|55.430000000000014|\n",
      "|  98796177|       25|             117.1|\n",
      "| 101437413|       25|             121.0|\n",
      "|2137293893|       24| 95.55999999999999|\n",
      "|  26932643|       25|-1.790000000000001|\n",
      "|   5371800|       25|             90.04|\n",
      "| 142020646|       81|             68.96|\n",
      "|2144686640|       24|33.629999999999995|\n",
      "|  88210115|       81|             45.96|\n",
      "| 109897628|        4|             12.69|\n",
      "|  43336551|       24|140.37000000000003|\n",
      "|   2200409|       81|             10.99|\n",
      "|  52714342|       18|14.379999999999999|\n",
      "+----------+---------+------------------+\n",
      "only showing top 20 rows\n",
      "\n"
     ]
    }
   ],
   "source": [
    "# for the second quesiton\n",
    "# combine gross_sales by trans_num and store_num\n",
    "trans_rev_withstore = postransDF.select('store_num','trans_num','gross_sales')\\\n",
    "    .groupBy('trans_num','store_num')\\\n",
    "    .agg(F.sum('gross_sales').alias('total'))   \n",
    "trans_rev_withstore.show(20) "
   ]
  },
  {
   "cell_type": "code",
   "execution_count": 14,
   "metadata": {},
   "outputs": [
    {
     "name": "stdout",
     "output_type": "stream",
     "text": [
      "+---------+------------------+\n",
      "|store_num|           average|\n",
      "+---------+------------------+\n",
      "|       26| 63.31999999999998|\n",
      "|       65| 39.70462025316455|\n",
      "|       19|39.743137977227036|\n",
      "|       22|49.345414937759315|\n",
      "|       34|25.081875000000004|\n",
      "|       84|         43.669375|\n",
      "|       31|17.246000000000002|\n",
      "|       39|28.879090909090905|\n",
      "|       25| 64.72486446616263|\n",
      "|       71| 31.75280701754387|\n",
      "|       68|  45.4400885668277|\n",
      "|        6| 66.28145695364238|\n",
      "|       87|36.559411764705885|\n",
      "|       63| 54.10971262341327|\n",
      "|       51|36.441538461538464|\n",
      "|       17|43.028749999999995|\n",
      "|       33|41.105714285714285|\n",
      "|       88| 56.06238095238096|\n",
      "|        1|28.467916666666664|\n",
      "|       89|           25.4556|\n",
      "|       67|51.780608734009675|\n",
      "|        3|46.872894115663456|\n",
      "|       37|          31.19375|\n",
      "|       83|28.361639344262297|\n",
      "|       12| 46.86992916934965|\n",
      "|       74| 65.98292355371898|\n",
      "|       62|39.638707328174796|\n",
      "|       11| 63.87691033138401|\n",
      "|       35|             63.08|\n",
      "|       80|34.670000000000016|\n",
      "|       66| 45.10926666666667|\n",
      "|      162|46.217969230769164|\n",
      "|        4| 38.04995480566436|\n",
      "|       92|33.836363636363636|\n",
      "|       13|  47.8712375745527|\n",
      "|       18|40.771322787938665|\n",
      "|       81| 64.08786328760755|\n",
      "|       15|            14.485|\n",
      "|       82| 32.55301886792453|\n",
      "|       38|37.702058823529406|\n",
      "|       30|61.714444444444446|\n",
      "|       73| 43.53777777777778|\n",
      "|       90| 53.43086956521739|\n",
      "|      117|             12.99|\n",
      "|       20|38.848062317429395|\n",
      "|       70|            59.845|\n",
      "|       86|         39.288125|\n",
      "|       64|46.216574128765515|\n",
      "|       91|31.287163636363633|\n",
      "|       24| 53.91139195861746|\n",
      "+---------+------------------+\n",
      "\n"
     ]
    }
   ],
   "source": [
    "# for the second quesiton\n",
    "average_trans_store = trans_rev_withstore.groupBy('store_num').agg(F.avg('total').alias('average'))\n",
    "average_trans_store.cache()\n",
    "average_trans_store.show(50)\n",
    "# the result of average amount spent per transaction for each store is showing below"
   ]
  }
 ],
 "metadata": {
  "kernelspec": {
   "display_name": "Python 2 (intel+spark)",
   "language": "python",
   "name": "intel-python-spark"
  },
  "language_info": {
   "codemirror_mode": {
    "name": "ipython",
    "version": 2
   },
   "file_extension": ".py",
   "mimetype": "text/x-python",
   "name": "python",
   "nbconvert_exporter": "python",
   "pygments_lexer": "ipython2",
   "version": "2.7.12"
  }
 },
 "nbformat": 4,
 "nbformat_minor": 2
}
